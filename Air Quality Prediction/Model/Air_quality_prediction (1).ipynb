{
 "cells": [
  {
   "cell_type": "markdown",
   "metadata": {
    "id": "Wnzi1EtbQvAD"
   },
   "source": [
    "# Air Quality Prediction"
   ]
  },
  {
   "cell_type": "markdown",
   "metadata": {
    "id": "XlO3rA3GYYHp"
   },
   "source": [
    "An air quality index (AQI) is used by government agencies to communicate to the public how polluted the air currently is or how polluted it is forecast to become. Public health risks increase as the AQI rises. Different countries have their own air quality indices, corresponding to different national air quality standards."
   ]
  },
  {
   "cell_type": "markdown",
   "metadata": {
    "id": "vjT_sorYQ2F8"
   },
   "source": [
    "For Air quality prediction we will use 4 algorithms:\n",
    "\n",
    "1.Linear Regression\n",
    "\n",
    "2.Lasso Regression\n",
    "\n",
    "3.Ridge Regression\n",
    "\n",
    "4.Decision Tree Regressor\n",
    "\n",
    "By using the above algorithms, i will be training the model by providing training data and once the model will be trained, after which i be performing prediction. After prediction, i will evaluate the performance of these algorithmns by error check and accuracy check."
   ]
  },
  {
   "cell_type": "markdown",
   "metadata": {
    "id": "mqZOrk7rRMyr"
   },
   "source": [
    "### Steps been followed are as:\n",
    "\n",
    "Step 1:Data Exploration\n",
    "\n",
    "Step 2: Data Cleaning\n",
    "\n",
    "Step 3: Data Visualization\n",
    "\n",
    "Step 4:Data training\n",
    "\n",
    "Step 5: Model Creation\n",
    "\n",
    "Step 6: Performance Evaluation"
   ]
  },
  {
   "cell_type": "markdown",
   "metadata": {
    "id": "XQCYck-bQnUu"
   },
   "source": [
    "## **Data Exploration**"
   ]
  },
  {
   "cell_type": "code",
   "execution_count": 34,
   "metadata": {
    "id": "e9MLh37K3xKz"
   },
   "outputs": [],
   "source": [
    "import pandas as pd"
   ]
  },
  {
   "cell_type": "code",
   "execution_count": 35,
   "metadata": {
    "colab": {
     "base_uri": "https://localhost:8080/",
     "height": 415
    },
    "id": "-rfV32qZ7tdx",
    "outputId": "275014a0-fe5b-4001-9265-27e8d6616677"
   },
   "outputs": [
    {
     "data": {
      "text/html": [
       "<div>\n",
       "<style scoped>\n",
       "    .dataframe tbody tr th:only-of-type {\n",
       "        vertical-align: middle;\n",
       "    }\n",
       "\n",
       "    .dataframe tbody tr th {\n",
       "        vertical-align: top;\n",
       "    }\n",
       "\n",
       "    .dataframe thead th {\n",
       "        text-align: right;\n",
       "    }\n",
       "</style>\n",
       "<table border=\"1\" class=\"dataframe\">\n",
       "  <thead>\n",
       "    <tr style=\"text-align: right;\">\n",
       "      <th></th>\n",
       "      <th>City</th>\n",
       "      <th>Date</th>\n",
       "      <th>PM2.5</th>\n",
       "      <th>PM10</th>\n",
       "      <th>NO</th>\n",
       "      <th>NO2</th>\n",
       "      <th>NOx</th>\n",
       "      <th>NH3</th>\n",
       "      <th>CO</th>\n",
       "      <th>SO2</th>\n",
       "      <th>O3</th>\n",
       "      <th>Benzene</th>\n",
       "      <th>Toluene</th>\n",
       "      <th>Xylene</th>\n",
       "      <th>AQI</th>\n",
       "      <th>AQI_Bucket</th>\n",
       "    </tr>\n",
       "  </thead>\n",
       "  <tbody>\n",
       "    <tr>\n",
       "      <th>0</th>\n",
       "      <td>Ahmedabad</td>\n",
       "      <td>2015-01-01</td>\n",
       "      <td>NaN</td>\n",
       "      <td>NaN</td>\n",
       "      <td>0.92</td>\n",
       "      <td>18.22</td>\n",
       "      <td>17.15</td>\n",
       "      <td>NaN</td>\n",
       "      <td>0.92</td>\n",
       "      <td>27.64</td>\n",
       "      <td>133.36</td>\n",
       "      <td>0.00</td>\n",
       "      <td>0.02</td>\n",
       "      <td>0.00</td>\n",
       "      <td>NaN</td>\n",
       "      <td>NaN</td>\n",
       "    </tr>\n",
       "    <tr>\n",
       "      <th>1</th>\n",
       "      <td>Ahmedabad</td>\n",
       "      <td>2015-01-02</td>\n",
       "      <td>NaN</td>\n",
       "      <td>NaN</td>\n",
       "      <td>0.97</td>\n",
       "      <td>15.69</td>\n",
       "      <td>16.46</td>\n",
       "      <td>NaN</td>\n",
       "      <td>0.97</td>\n",
       "      <td>24.55</td>\n",
       "      <td>34.06</td>\n",
       "      <td>3.68</td>\n",
       "      <td>5.50</td>\n",
       "      <td>3.77</td>\n",
       "      <td>NaN</td>\n",
       "      <td>NaN</td>\n",
       "    </tr>\n",
       "    <tr>\n",
       "      <th>2</th>\n",
       "      <td>Ahmedabad</td>\n",
       "      <td>2015-01-03</td>\n",
       "      <td>NaN</td>\n",
       "      <td>NaN</td>\n",
       "      <td>17.40</td>\n",
       "      <td>19.30</td>\n",
       "      <td>29.70</td>\n",
       "      <td>NaN</td>\n",
       "      <td>17.40</td>\n",
       "      <td>29.07</td>\n",
       "      <td>30.70</td>\n",
       "      <td>6.80</td>\n",
       "      <td>16.40</td>\n",
       "      <td>2.25</td>\n",
       "      <td>NaN</td>\n",
       "      <td>NaN</td>\n",
       "    </tr>\n",
       "    <tr>\n",
       "      <th>3</th>\n",
       "      <td>Ahmedabad</td>\n",
       "      <td>2015-01-04</td>\n",
       "      <td>NaN</td>\n",
       "      <td>NaN</td>\n",
       "      <td>1.70</td>\n",
       "      <td>18.48</td>\n",
       "      <td>17.97</td>\n",
       "      <td>NaN</td>\n",
       "      <td>1.70</td>\n",
       "      <td>18.59</td>\n",
       "      <td>36.08</td>\n",
       "      <td>4.43</td>\n",
       "      <td>10.14</td>\n",
       "      <td>1.00</td>\n",
       "      <td>NaN</td>\n",
       "      <td>NaN</td>\n",
       "    </tr>\n",
       "    <tr>\n",
       "      <th>4</th>\n",
       "      <td>Ahmedabad</td>\n",
       "      <td>2015-01-05</td>\n",
       "      <td>NaN</td>\n",
       "      <td>NaN</td>\n",
       "      <td>22.10</td>\n",
       "      <td>21.42</td>\n",
       "      <td>37.76</td>\n",
       "      <td>NaN</td>\n",
       "      <td>22.10</td>\n",
       "      <td>39.33</td>\n",
       "      <td>39.31</td>\n",
       "      <td>7.01</td>\n",
       "      <td>18.89</td>\n",
       "      <td>2.78</td>\n",
       "      <td>NaN</td>\n",
       "      <td>NaN</td>\n",
       "    </tr>\n",
       "    <tr>\n",
       "      <th>...</th>\n",
       "      <td>...</td>\n",
       "      <td>...</td>\n",
       "      <td>...</td>\n",
       "      <td>...</td>\n",
       "      <td>...</td>\n",
       "      <td>...</td>\n",
       "      <td>...</td>\n",
       "      <td>...</td>\n",
       "      <td>...</td>\n",
       "      <td>...</td>\n",
       "      <td>...</td>\n",
       "      <td>...</td>\n",
       "      <td>...</td>\n",
       "      <td>...</td>\n",
       "      <td>...</td>\n",
       "      <td>...</td>\n",
       "    </tr>\n",
       "    <tr>\n",
       "      <th>29526</th>\n",
       "      <td>Visakhapatnam</td>\n",
       "      <td>2020-06-27</td>\n",
       "      <td>15.02</td>\n",
       "      <td>50.94</td>\n",
       "      <td>7.68</td>\n",
       "      <td>25.06</td>\n",
       "      <td>19.54</td>\n",
       "      <td>12.47</td>\n",
       "      <td>0.47</td>\n",
       "      <td>8.55</td>\n",
       "      <td>23.30</td>\n",
       "      <td>2.24</td>\n",
       "      <td>12.07</td>\n",
       "      <td>0.73</td>\n",
       "      <td>41.0</td>\n",
       "      <td>Good</td>\n",
       "    </tr>\n",
       "    <tr>\n",
       "      <th>29527</th>\n",
       "      <td>Visakhapatnam</td>\n",
       "      <td>2020-06-28</td>\n",
       "      <td>24.38</td>\n",
       "      <td>74.09</td>\n",
       "      <td>3.42</td>\n",
       "      <td>26.06</td>\n",
       "      <td>16.53</td>\n",
       "      <td>11.99</td>\n",
       "      <td>0.52</td>\n",
       "      <td>12.72</td>\n",
       "      <td>30.14</td>\n",
       "      <td>0.74</td>\n",
       "      <td>2.21</td>\n",
       "      <td>0.38</td>\n",
       "      <td>70.0</td>\n",
       "      <td>Satisfactory</td>\n",
       "    </tr>\n",
       "    <tr>\n",
       "      <th>29528</th>\n",
       "      <td>Visakhapatnam</td>\n",
       "      <td>2020-06-29</td>\n",
       "      <td>22.91</td>\n",
       "      <td>65.73</td>\n",
       "      <td>3.45</td>\n",
       "      <td>29.53</td>\n",
       "      <td>18.33</td>\n",
       "      <td>10.71</td>\n",
       "      <td>0.48</td>\n",
       "      <td>8.42</td>\n",
       "      <td>30.96</td>\n",
       "      <td>0.01</td>\n",
       "      <td>0.01</td>\n",
       "      <td>0.00</td>\n",
       "      <td>68.0</td>\n",
       "      <td>Satisfactory</td>\n",
       "    </tr>\n",
       "    <tr>\n",
       "      <th>29529</th>\n",
       "      <td>Visakhapatnam</td>\n",
       "      <td>2020-06-30</td>\n",
       "      <td>16.64</td>\n",
       "      <td>49.97</td>\n",
       "      <td>4.05</td>\n",
       "      <td>29.26</td>\n",
       "      <td>18.80</td>\n",
       "      <td>10.03</td>\n",
       "      <td>0.52</td>\n",
       "      <td>9.84</td>\n",
       "      <td>28.30</td>\n",
       "      <td>0.00</td>\n",
       "      <td>0.00</td>\n",
       "      <td>0.00</td>\n",
       "      <td>54.0</td>\n",
       "      <td>Satisfactory</td>\n",
       "    </tr>\n",
       "    <tr>\n",
       "      <th>29530</th>\n",
       "      <td>Visakhapatnam</td>\n",
       "      <td>2020-07-01</td>\n",
       "      <td>15.00</td>\n",
       "      <td>66.00</td>\n",
       "      <td>0.40</td>\n",
       "      <td>26.85</td>\n",
       "      <td>14.05</td>\n",
       "      <td>5.20</td>\n",
       "      <td>0.59</td>\n",
       "      <td>2.10</td>\n",
       "      <td>17.05</td>\n",
       "      <td>NaN</td>\n",
       "      <td>NaN</td>\n",
       "      <td>NaN</td>\n",
       "      <td>50.0</td>\n",
       "      <td>Good</td>\n",
       "    </tr>\n",
       "  </tbody>\n",
       "</table>\n",
       "<p>29531 rows × 16 columns</p>\n",
       "</div>"
      ],
      "text/plain": [
       "                City        Date  PM2.5   PM10     NO    NO2    NOx    NH3  \\\n",
       "0          Ahmedabad  2015-01-01    NaN    NaN   0.92  18.22  17.15    NaN   \n",
       "1          Ahmedabad  2015-01-02    NaN    NaN   0.97  15.69  16.46    NaN   \n",
       "2          Ahmedabad  2015-01-03    NaN    NaN  17.40  19.30  29.70    NaN   \n",
       "3          Ahmedabad  2015-01-04    NaN    NaN   1.70  18.48  17.97    NaN   \n",
       "4          Ahmedabad  2015-01-05    NaN    NaN  22.10  21.42  37.76    NaN   \n",
       "...              ...         ...    ...    ...    ...    ...    ...    ...   \n",
       "29526  Visakhapatnam  2020-06-27  15.02  50.94   7.68  25.06  19.54  12.47   \n",
       "29527  Visakhapatnam  2020-06-28  24.38  74.09   3.42  26.06  16.53  11.99   \n",
       "29528  Visakhapatnam  2020-06-29  22.91  65.73   3.45  29.53  18.33  10.71   \n",
       "29529  Visakhapatnam  2020-06-30  16.64  49.97   4.05  29.26  18.80  10.03   \n",
       "29530  Visakhapatnam  2020-07-01  15.00  66.00   0.40  26.85  14.05   5.20   \n",
       "\n",
       "          CO    SO2      O3  Benzene  Toluene  Xylene   AQI    AQI_Bucket  \n",
       "0       0.92  27.64  133.36     0.00     0.02    0.00   NaN           NaN  \n",
       "1       0.97  24.55   34.06     3.68     5.50    3.77   NaN           NaN  \n",
       "2      17.40  29.07   30.70     6.80    16.40    2.25   NaN           NaN  \n",
       "3       1.70  18.59   36.08     4.43    10.14    1.00   NaN           NaN  \n",
       "4      22.10  39.33   39.31     7.01    18.89    2.78   NaN           NaN  \n",
       "...      ...    ...     ...      ...      ...     ...   ...           ...  \n",
       "29526   0.47   8.55   23.30     2.24    12.07    0.73  41.0          Good  \n",
       "29527   0.52  12.72   30.14     0.74     2.21    0.38  70.0  Satisfactory  \n",
       "29528   0.48   8.42   30.96     0.01     0.01    0.00  68.0  Satisfactory  \n",
       "29529   0.52   9.84   28.30     0.00     0.00    0.00  54.0  Satisfactory  \n",
       "29530   0.59   2.10   17.05      NaN      NaN     NaN  50.0          Good  \n",
       "\n",
       "[29531 rows x 16 columns]"
      ]
     },
     "execution_count": 35,
     "metadata": {},
     "output_type": "execute_result"
    }
   ],
   "source": [
    "data=pd.read_csv('city_day.csv')\n",
    "data"
   ]
  },
  {
   "cell_type": "code",
   "execution_count": 36,
   "metadata": {
    "colab": {
     "base_uri": "https://localhost:8080/"
    },
    "id": "QOfdWXsY7zpa",
    "outputId": "f4a636ff-965f-4347-aa64-4c6c9fb8c0af"
   },
   "outputs": [
    {
     "data": {
      "text/plain": [
       "(29531, 16)"
      ]
     },
     "execution_count": 36,
     "metadata": {},
     "output_type": "execute_result"
    }
   ],
   "source": [
    "data.shape"
   ]
  },
  {
   "cell_type": "code",
   "execution_count": 37,
   "metadata": {
    "colab": {
     "base_uri": "https://localhost:8080/"
    },
    "id": "INCp9btv9K1k",
    "outputId": "7edd548d-7b5e-45c2-bc16-31b08488482b"
   },
   "outputs": [
    {
     "data": {
      "text/plain": [
       "City           object\n",
       "Date           object\n",
       "PM2.5         float64\n",
       "PM10          float64\n",
       "NO            float64\n",
       "NO2           float64\n",
       "NOx           float64\n",
       "NH3           float64\n",
       "CO            float64\n",
       "SO2           float64\n",
       "O3            float64\n",
       "Benzene       float64\n",
       "Toluene       float64\n",
       "Xylene        float64\n",
       "AQI           float64\n",
       "AQI_Bucket     object\n",
       "dtype: object"
      ]
     },
     "execution_count": 37,
     "metadata": {},
     "output_type": "execute_result"
    }
   ],
   "source": [
    "data.dtypes"
   ]
  },
  {
   "cell_type": "code",
   "execution_count": 38,
   "metadata": {
    "colab": {
     "base_uri": "https://localhost:8080/"
    },
    "id": "YpIctWvQ77_8",
    "outputId": "4414ef8d-4aad-4741-ae18-e975a9d3fa90"
   },
   "outputs": [
    {
     "data": {
      "text/plain": [
       "Index(['City', 'Date', 'PM2.5', 'PM10', 'NO', 'NO2', 'NOx', 'NH3', 'CO', 'SO2',\n",
       "       'O3', 'Benzene', 'Toluene', 'Xylene', 'AQI', 'AQI_Bucket'],\n",
       "      dtype='object')"
      ]
     },
     "execution_count": 38,
     "metadata": {},
     "output_type": "execute_result"
    }
   ],
   "source": [
    "data.columns"
   ]
  },
  {
   "cell_type": "code",
   "execution_count": 39,
   "metadata": {
    "colab": {
     "base_uri": "https://localhost:8080/"
    },
    "id": "3xDflQyq_Iwk",
    "outputId": "22d20cd9-245c-4c48-b7f8-6e4b6dc75d38"
   },
   "outputs": [
    {
     "data": {
      "text/plain": [
       "City              0\n",
       "Date              0\n",
       "PM2.5          4598\n",
       "PM10          11140\n",
       "NO             3582\n",
       "NO2            3585\n",
       "NOx            4185\n",
       "NH3           10328\n",
       "CO             2059\n",
       "SO2            3854\n",
       "O3             4022\n",
       "Benzene        5623\n",
       "Toluene        8041\n",
       "Xylene        18109\n",
       "AQI            4681\n",
       "AQI_Bucket     4681\n",
       "dtype: int64"
      ]
     },
     "execution_count": 39,
     "metadata": {},
     "output_type": "execute_result"
    }
   ],
   "source": [
    "data.isnull().sum()"
   ]
  },
  {
   "cell_type": "markdown",
   "metadata": {
    "id": "epmL_NfR_Oxr"
   },
   "source": [
    "## Data cleaning"
   ]
  },
  {
   "cell_type": "markdown",
   "metadata": {
    "id": "GfouLcScy8ul"
   },
   "source": [
    "As we can see above there are null or missing values in the data.We cannot use this type of data with null values as it affects the performance as well as the accuracy of the model.Therefore, we will clean the data.\n",
    "\n",
    "For data cleaning, i'll fill the null values by their column's respective mean."
   ]
  },
  {
   "cell_type": "code",
   "execution_count": 40,
   "metadata": {
    "colab": {
     "base_uri": "https://localhost:8080/"
    },
    "id": "YJVRzmWL_N0s",
    "outputId": "3ad20244-7ff3-481f-d552-d84a21c1de97"
   },
   "outputs": [
    {
     "data": {
      "text/plain": [
       "4598"
      ]
     },
     "execution_count": 40,
     "metadata": {},
     "output_type": "execute_result"
    }
   ],
   "source": [
    "data['PM2.5'].isnull().sum()"
   ]
  },
  {
   "cell_type": "code",
   "execution_count": 41,
   "metadata": {
    "colab": {
     "base_uri": "https://localhost:8080/"
    },
    "id": "XkAdCQ7O_duJ",
    "outputId": "4e3e7ce3-7c9a-4a4c-b642-841823fee2d5"
   },
   "outputs": [
    {
     "data": {
      "text/plain": [
       "67.45057794890272"
      ]
     },
     "execution_count": 41,
     "metadata": {},
     "output_type": "execute_result"
    }
   ],
   "source": [
    "data['PM2.5'].mean()"
   ]
  },
  {
   "cell_type": "code",
   "execution_count": 42,
   "metadata": {
    "id": "VAiyUJQ8_9A9"
   },
   "outputs": [],
   "source": [
    "data['PM2.5'].fillna('67',inplace=True)"
   ]
  },
  {
   "cell_type": "code",
   "execution_count": 43,
   "metadata": {
    "colab": {
     "base_uri": "https://localhost:8080/"
    },
    "id": "a8vyU7TfAHoS",
    "outputId": "8fdda30a-a759-47db-e7e0-7ac797896d23"
   },
   "outputs": [
    {
     "data": {
      "text/plain": [
       "0"
      ]
     },
     "execution_count": 43,
     "metadata": {},
     "output_type": "execute_result"
    }
   ],
   "source": [
    "data['PM2.5'].isnull().sum()"
   ]
  },
  {
   "cell_type": "code",
   "execution_count": 44,
   "metadata": {
    "colab": {
     "base_uri": "https://localhost:8080/"
    },
    "id": "pS0kOMb0AMPQ",
    "outputId": "c8a5e997-9ea5-403c-e0f5-4dc34c6c0505"
   },
   "outputs": [
    {
     "data": {
      "text/plain": [
       "11140"
      ]
     },
     "execution_count": 44,
     "metadata": {},
     "output_type": "execute_result"
    }
   ],
   "source": [
    "data['PM10'].isnull().sum()"
   ]
  },
  {
   "cell_type": "code",
   "execution_count": 45,
   "metadata": {
    "colab": {
     "base_uri": "https://localhost:8080/"
    },
    "id": "3fdsalJGDX5a",
    "outputId": "269085ba-7f9a-4e1c-fd82-2d5f6143636b"
   },
   "outputs": [
    {
     "data": {
      "text/plain": [
       "118.12710293078102"
      ]
     },
     "execution_count": 45,
     "metadata": {},
     "output_type": "execute_result"
    }
   ],
   "source": [
    "data['PM10'].mean()"
   ]
  },
  {
   "cell_type": "code",
   "execution_count": 46,
   "metadata": {
    "id": "AGw2Gb_eDfgc"
   },
   "outputs": [],
   "source": [
    "data['PM10'].fillna('118',inplace=True)"
   ]
  },
  {
   "cell_type": "code",
   "execution_count": 47,
   "metadata": {
    "colab": {
     "base_uri": "https://localhost:8080/"
    },
    "id": "lfF7UMvMDj_J",
    "outputId": "c50c7065-76c9-4fb1-b2cc-d2fded100a1d"
   },
   "outputs": [
    {
     "data": {
      "text/plain": [
       "0"
      ]
     },
     "execution_count": 47,
     "metadata": {},
     "output_type": "execute_result"
    }
   ],
   "source": [
    "data['PM10'].isnull().sum()"
   ]
  },
  {
   "cell_type": "code",
   "execution_count": 48,
   "metadata": {
    "colab": {
     "base_uri": "https://localhost:8080/"
    },
    "id": "4rs-nLBhDmYp",
    "outputId": "799f8a42-02d1-4a61-a8c4-3b91a7f0f61b"
   },
   "outputs": [
    {
     "data": {
      "text/plain": [
       "3582"
      ]
     },
     "execution_count": 48,
     "metadata": {},
     "output_type": "execute_result"
    }
   ],
   "source": [
    "data['NO'].isnull().sum()"
   ]
  },
  {
   "cell_type": "code",
   "execution_count": 49,
   "metadata": {
    "colab": {
     "base_uri": "https://localhost:8080/"
    },
    "id": "Xjy5hENmD0fP",
    "outputId": "190551a7-5889-411a-d94b-aee673334ebc"
   },
   "outputs": [
    {
     "data": {
      "text/plain": [
       "17.574729662029284"
      ]
     },
     "execution_count": 49,
     "metadata": {},
     "output_type": "execute_result"
    }
   ],
   "source": [
    "data['NO'].mean()"
   ]
  },
  {
   "cell_type": "code",
   "execution_count": 50,
   "metadata": {
    "id": "UtK92DFbD8J5"
   },
   "outputs": [],
   "source": [
    "data['NO'].fillna('17',inplace=True)"
   ]
  },
  {
   "cell_type": "code",
   "execution_count": 51,
   "metadata": {
    "colab": {
     "base_uri": "https://localhost:8080/"
    },
    "id": "EnpZmUw6EFdt",
    "outputId": "704d25e7-0659-4c02-f0c3-babb6fb1a2a7"
   },
   "outputs": [
    {
     "data": {
      "text/plain": [
       "0"
      ]
     },
     "execution_count": 51,
     "metadata": {},
     "output_type": "execute_result"
    }
   ],
   "source": [
    "data['NO'].isnull().sum()"
   ]
  },
  {
   "cell_type": "code",
   "execution_count": 52,
   "metadata": {
    "colab": {
     "base_uri": "https://localhost:8080/"
    },
    "id": "TVEoN-nLEHqV",
    "outputId": "c25cba25-3dbc-49db-c5f9-a337896ad0f3"
   },
   "outputs": [
    {
     "data": {
      "text/plain": [
       "3585"
      ]
     },
     "execution_count": 52,
     "metadata": {},
     "output_type": "execute_result"
    }
   ],
   "source": [
    "data['NO2'].isnull().sum()"
   ]
  },
  {
   "cell_type": "code",
   "execution_count": 53,
   "metadata": {
    "colab": {
     "base_uri": "https://localhost:8080/"
    },
    "id": "TLMZgpekFuA4",
    "outputId": "e73d107a-5737-4ec8-acbc-23657a9384e2"
   },
   "outputs": [
    {
     "data": {
      "text/plain": [
       "28.560659061126763"
      ]
     },
     "execution_count": 53,
     "metadata": {},
     "output_type": "execute_result"
    }
   ],
   "source": [
    "data['NO2'].mean()"
   ]
  },
  {
   "cell_type": "code",
   "execution_count": 54,
   "metadata": {
    "id": "T4pfsPeSFxaJ"
   },
   "outputs": [],
   "source": [
    "data['NO2'].fillna('28',inplace=True)"
   ]
  },
  {
   "cell_type": "code",
   "execution_count": 55,
   "metadata": {
    "colab": {
     "base_uri": "https://localhost:8080/"
    },
    "id": "WSg6_-vyF83c",
    "outputId": "67d23e6b-9387-4343-f9d7-5e033368661d"
   },
   "outputs": [
    {
     "data": {
      "text/plain": [
       "0"
      ]
     },
     "execution_count": 55,
     "metadata": {},
     "output_type": "execute_result"
    }
   ],
   "source": [
    "data['NO2'].isnull().sum()"
   ]
  },
  {
   "cell_type": "code",
   "execution_count": 56,
   "metadata": {
    "colab": {
     "base_uri": "https://localhost:8080/"
    },
    "id": "vCluX37uF_iK",
    "outputId": "c1def1c3-d5f7-4ea8-f332-7f527e2f8d41"
   },
   "outputs": [
    {
     "data": {
      "text/plain": [
       "2059"
      ]
     },
     "execution_count": 56,
     "metadata": {},
     "output_type": "execute_result"
    }
   ],
   "source": [
    "data['CO'].isnull().sum()"
   ]
  },
  {
   "cell_type": "code",
   "execution_count": 57,
   "metadata": {
    "colab": {
     "base_uri": "https://localhost:8080/"
    },
    "id": "E0WUISbMGIDs",
    "outputId": "21b17c84-b788-4c72-de40-59e1e99d69ba"
   },
   "outputs": [
    {
     "data": {
      "text/plain": [
       "2.248598209085598"
      ]
     },
     "execution_count": 57,
     "metadata": {},
     "output_type": "execute_result"
    }
   ],
   "source": [
    "data['CO'].mean()"
   ]
  },
  {
   "cell_type": "code",
   "execution_count": 58,
   "metadata": {
    "id": "GZvmv4qPGMXm"
   },
   "outputs": [],
   "source": [
    "data['CO'].fillna('2',inplace=True)"
   ]
  },
  {
   "cell_type": "code",
   "execution_count": 59,
   "metadata": {
    "colab": {
     "base_uri": "https://localhost:8080/"
    },
    "id": "MbnibuEWGS8m",
    "outputId": "29623768-aa6e-4b3e-8cc5-0e288bf07e44"
   },
   "outputs": [
    {
     "data": {
      "text/plain": [
       "0"
      ]
     },
     "execution_count": 59,
     "metadata": {},
     "output_type": "execute_result"
    }
   ],
   "source": [
    "data['CO'].isnull().sum()"
   ]
  },
  {
   "cell_type": "code",
   "execution_count": 60,
   "metadata": {
    "colab": {
     "base_uri": "https://localhost:8080/"
    },
    "id": "FgaZ1bOBGWSs",
    "outputId": "30f9bfda-48bc-42dc-b062-bd77ab971ebe"
   },
   "outputs": [
    {
     "data": {
      "text/plain": [
       "3854"
      ]
     },
     "execution_count": 60,
     "metadata": {},
     "output_type": "execute_result"
    }
   ],
   "source": [
    "data['SO2'].isnull().sum()"
   ]
  },
  {
   "cell_type": "code",
   "execution_count": 61,
   "metadata": {
    "colab": {
     "base_uri": "https://localhost:8080/"
    },
    "id": "mvz4XaHUGY2V",
    "outputId": "8a01b497-8b84-4a22-952f-3296212abcb2"
   },
   "outputs": [
    {
     "data": {
      "text/plain": [
       "14.531977255910002"
      ]
     },
     "execution_count": 61,
     "metadata": {},
     "output_type": "execute_result"
    }
   ],
   "source": [
    "data['SO2'].mean()"
   ]
  },
  {
   "cell_type": "code",
   "execution_count": 62,
   "metadata": {
    "id": "rJXTEiFMGbeO"
   },
   "outputs": [],
   "source": [
    "data['SO2'].fillna('14',inplace=True)"
   ]
  },
  {
   "cell_type": "code",
   "execution_count": 63,
   "metadata": {
    "colab": {
     "base_uri": "https://localhost:8080/"
    },
    "id": "1ML6_5ivGfiX",
    "outputId": "5d30d6c6-72bc-4704-c3de-a6497cf4186c"
   },
   "outputs": [
    {
     "data": {
      "text/plain": [
       "0"
      ]
     },
     "execution_count": 63,
     "metadata": {},
     "output_type": "execute_result"
    }
   ],
   "source": [
    "data['SO2'].isnull().sum()"
   ]
  },
  {
   "cell_type": "code",
   "execution_count": 64,
   "metadata": {
    "colab": {
     "base_uri": "https://localhost:8080/"
    },
    "id": "gxBrcF9zGhd7",
    "outputId": "a1ca4523-6e46-4bb1-f51e-1c7aeec8e15f"
   },
   "outputs": [
    {
     "data": {
      "text/plain": [
       "4022"
      ]
     },
     "execution_count": 64,
     "metadata": {},
     "output_type": "execute_result"
    }
   ],
   "source": [
    "data['O3'].isnull().sum()"
   ]
  },
  {
   "cell_type": "code",
   "execution_count": 65,
   "metadata": {
    "colab": {
     "base_uri": "https://localhost:8080/"
    },
    "id": "1z6WIE21GrUb",
    "outputId": "16dad25f-9f8a-45fb-c015-76dbc8064aa5"
   },
   "outputs": [
    {
     "data": {
      "text/plain": [
       "34.49143047551808"
      ]
     },
     "execution_count": 65,
     "metadata": {},
     "output_type": "execute_result"
    }
   ],
   "source": [
    "data['O3'].mean()"
   ]
  },
  {
   "cell_type": "code",
   "execution_count": 66,
   "metadata": {
    "id": "IY7cH-xNGuUn"
   },
   "outputs": [],
   "source": [
    "data['O3'].fillna('34',inplace=True)"
   ]
  },
  {
   "cell_type": "code",
   "execution_count": 67,
   "metadata": {
    "colab": {
     "base_uri": "https://localhost:8080/"
    },
    "id": "zoDH0FDHG1Dg",
    "outputId": "fbe1283a-5a14-4a9d-c044-44186e88b5e2"
   },
   "outputs": [
    {
     "data": {
      "text/plain": [
       "0"
      ]
     },
     "execution_count": 67,
     "metadata": {},
     "output_type": "execute_result"
    }
   ],
   "source": [
    "data['O3'].isnull().sum()"
   ]
  },
  {
   "cell_type": "code",
   "execution_count": 68,
   "metadata": {
    "colab": {
     "base_uri": "https://localhost:8080/"
    },
    "id": "2fTjemfzH_Gt",
    "outputId": "d71434a7-25c4-4203-9d38-505e87ecaedf"
   },
   "outputs": [
    {
     "data": {
      "text/plain": [
       "4681"
      ]
     },
     "execution_count": 68,
     "metadata": {},
     "output_type": "execute_result"
    }
   ],
   "source": [
    "data['AQI'].isnull().sum()"
   ]
  },
  {
   "cell_type": "code",
   "execution_count": 69,
   "metadata": {
    "colab": {
     "base_uri": "https://localhost:8080/"
    },
    "id": "pcXGjWBrICo4",
    "outputId": "c70eec0b-f432-44ad-8dae-287a8ad45036"
   },
   "outputs": [
    {
     "data": {
      "text/plain": [
       "166.4635814889336"
      ]
     },
     "execution_count": 69,
     "metadata": {},
     "output_type": "execute_result"
    }
   ],
   "source": [
    "data['AQI'].mean()"
   ]
  },
  {
   "cell_type": "code",
   "execution_count": 70,
   "metadata": {
    "id": "mohpvTpKIFfq"
   },
   "outputs": [],
   "source": [
    "data['AQI'].fillna('166',inplace=True)"
   ]
  },
  {
   "cell_type": "code",
   "execution_count": 71,
   "metadata": {
    "colab": {
     "base_uri": "https://localhost:8080/"
    },
    "id": "dmmDVllmIV3Y",
    "outputId": "473f28b0-de2c-4e63-d586-6156d7dfce7a"
   },
   "outputs": [
    {
     "data": {
      "text/plain": [
       "0"
      ]
     },
     "execution_count": 71,
     "metadata": {},
     "output_type": "execute_result"
    }
   ],
   "source": [
    "data['AQI'].isnull().sum()"
   ]
  },
  {
   "cell_type": "code",
   "execution_count": 72,
   "metadata": {
    "colab": {
     "base_uri": "https://localhost:8080/"
    },
    "id": "vMSTeRCZH2c7",
    "outputId": "0ce8d027-53e8-4005-e0fb-e87627b53769"
   },
   "outputs": [
    {
     "data": {
      "text/plain": [
       "City              0\n",
       "Date              0\n",
       "PM2.5             0\n",
       "PM10              0\n",
       "NO                0\n",
       "NO2               0\n",
       "NOx            4185\n",
       "NH3           10328\n",
       "CO                0\n",
       "SO2               0\n",
       "O3                0\n",
       "Benzene        5623\n",
       "Toluene        8041\n",
       "Xylene        18109\n",
       "AQI               0\n",
       "AQI_Bucket     4681\n",
       "dtype: int64"
      ]
     },
     "execution_count": 72,
     "metadata": {},
     "output_type": "execute_result"
    }
   ],
   "source": [
    "data.isnull().sum()"
   ]
  },
  {
   "cell_type": "code",
   "execution_count": 73,
   "metadata": {
    "colab": {
     "base_uri": "https://localhost:8080/"
    },
    "id": "FVbLQNExHmX8",
    "outputId": "f5fd1555-a8af-471c-ccde-870b33a2ee9a"
   },
   "outputs": [
    {
     "data": {
      "text/plain": [
       "Index(['PM2.5', 'PM10', 'NO', 'NO2', 'CO', 'SO2', 'O3', 'AQI'], dtype='object')"
      ]
     },
     "execution_count": 73,
     "metadata": {},
     "output_type": "execute_result"
    }
   ],
   "source": [
    "#Drop unwanted columns.\n",
    "newdata=data.drop(['City', 'Date','NOx', 'NH3','Benzene', 'Toluene', 'Xylene', 'AQI_Bucket'],axis=1)\n",
    "newdata.columns"
   ]
  },
  {
   "cell_type": "code",
   "execution_count": 74,
   "metadata": {
    "colab": {
     "base_uri": "https://localhost:8080/"
    },
    "id": "ID1GhNYuIiry",
    "outputId": "871744f5-f631-4591-b6ef-cdf3be5b90b7"
   },
   "outputs": [
    {
     "data": {
      "text/plain": [
       "PM2.5    0\n",
       "PM10     0\n",
       "NO       0\n",
       "NO2      0\n",
       "CO       0\n",
       "SO2      0\n",
       "O3       0\n",
       "AQI      0\n",
       "dtype: int64"
      ]
     },
     "execution_count": 74,
     "metadata": {},
     "output_type": "execute_result"
    }
   ],
   "source": [
    "newdata.isnull().sum()"
   ]
  },
  {
   "cell_type": "markdown",
   "metadata": {
    "id": "PgMvJg9BzpF2"
   },
   "source": [
    "There are no null values present in the data.We can proceed with next steps."
   ]
  },
  {
   "cell_type": "code",
   "execution_count": 75,
   "metadata": {
    "colab": {
     "base_uri": "https://localhost:8080/"
    },
    "id": "oFh3BZamInSJ",
    "outputId": "1b962cac-e92c-4085-fa29-8c8238fdf9e1"
   },
   "outputs": [
    {
     "name": "stdout",
     "output_type": "stream",
     "text": [
      "<class 'pandas.core.frame.DataFrame'>\n",
      "RangeIndex: 29531 entries, 0 to 29530\n",
      "Data columns (total 8 columns):\n",
      " #   Column  Non-Null Count  Dtype \n",
      "---  ------  --------------  ----- \n",
      " 0   PM2.5   29531 non-null  object\n",
      " 1   PM10    29531 non-null  object\n",
      " 2   NO      29531 non-null  object\n",
      " 3   NO2     29531 non-null  object\n",
      " 4   CO      29531 non-null  object\n",
      " 5   SO2     29531 non-null  object\n",
      " 6   O3      29531 non-null  object\n",
      " 7   AQI     29531 non-null  object\n",
      "dtypes: object(8)\n",
      "memory usage: 1.8+ MB\n"
     ]
    }
   ],
   "source": [
    "newdata.info()"
   ]
  },
  {
   "cell_type": "code",
   "execution_count": 76,
   "metadata": {
    "colab": {
     "base_uri": "https://localhost:8080/",
     "height": 202
    },
    "id": "ov72lPGUIwDM",
    "outputId": "a4304f06-6bfb-4116-fe26-de93e72e5c1b"
   },
   "outputs": [
    {
     "data": {
      "text/html": [
       "<div>\n",
       "<style scoped>\n",
       "    .dataframe tbody tr th:only-of-type {\n",
       "        vertical-align: middle;\n",
       "    }\n",
       "\n",
       "    .dataframe tbody tr th {\n",
       "        vertical-align: top;\n",
       "    }\n",
       "\n",
       "    .dataframe thead th {\n",
       "        text-align: right;\n",
       "    }\n",
       "</style>\n",
       "<table border=\"1\" class=\"dataframe\">\n",
       "  <thead>\n",
       "    <tr style=\"text-align: right;\">\n",
       "      <th></th>\n",
       "      <th>PM2.5</th>\n",
       "      <th>PM10</th>\n",
       "      <th>NO</th>\n",
       "      <th>NO2</th>\n",
       "      <th>CO</th>\n",
       "      <th>SO2</th>\n",
       "      <th>O3</th>\n",
       "      <th>AQI</th>\n",
       "    </tr>\n",
       "  </thead>\n",
       "  <tbody>\n",
       "    <tr>\n",
       "      <th>0</th>\n",
       "      <td>67</td>\n",
       "      <td>118</td>\n",
       "      <td>0</td>\n",
       "      <td>18</td>\n",
       "      <td>0</td>\n",
       "      <td>27</td>\n",
       "      <td>133</td>\n",
       "      <td>166</td>\n",
       "    </tr>\n",
       "    <tr>\n",
       "      <th>1</th>\n",
       "      <td>67</td>\n",
       "      <td>118</td>\n",
       "      <td>0</td>\n",
       "      <td>15</td>\n",
       "      <td>0</td>\n",
       "      <td>24</td>\n",
       "      <td>34</td>\n",
       "      <td>166</td>\n",
       "    </tr>\n",
       "    <tr>\n",
       "      <th>2</th>\n",
       "      <td>67</td>\n",
       "      <td>118</td>\n",
       "      <td>17</td>\n",
       "      <td>19</td>\n",
       "      <td>17</td>\n",
       "      <td>29</td>\n",
       "      <td>30</td>\n",
       "      <td>166</td>\n",
       "    </tr>\n",
       "    <tr>\n",
       "      <th>3</th>\n",
       "      <td>67</td>\n",
       "      <td>118</td>\n",
       "      <td>1</td>\n",
       "      <td>18</td>\n",
       "      <td>1</td>\n",
       "      <td>18</td>\n",
       "      <td>36</td>\n",
       "      <td>166</td>\n",
       "    </tr>\n",
       "    <tr>\n",
       "      <th>4</th>\n",
       "      <td>67</td>\n",
       "      <td>118</td>\n",
       "      <td>22</td>\n",
       "      <td>21</td>\n",
       "      <td>22</td>\n",
       "      <td>39</td>\n",
       "      <td>39</td>\n",
       "      <td>166</td>\n",
       "    </tr>\n",
       "  </tbody>\n",
       "</table>\n",
       "</div>"
      ],
      "text/plain": [
       "   PM2.5  PM10  NO  NO2  CO  SO2   O3  AQI\n",
       "0     67   118   0   18   0   27  133  166\n",
       "1     67   118   0   15   0   24   34  166\n",
       "2     67   118  17   19  17   29   30  166\n",
       "3     67   118   1   18   1   18   36  166\n",
       "4     67   118  22   21  22   39   39  166"
      ]
     },
     "execution_count": 76,
     "metadata": {},
     "output_type": "execute_result"
    }
   ],
   "source": [
    "#converting data into int datatype to avoid errors below.\n",
    "prepareddata=newdata.astype(int)\n",
    "prepareddata.head()"
   ]
  },
  {
   "cell_type": "code",
   "execution_count": 77,
   "metadata": {
    "colab": {
     "base_uri": "https://localhost:8080/",
     "height": 202
    },
    "id": "NFsXHX3dJF_u",
    "outputId": "a694fd75-1bc2-4549-ae39-ebfb5578aa05"
   },
   "outputs": [
    {
     "data": {
      "text/html": [
       "<div>\n",
       "<style scoped>\n",
       "    .dataframe tbody tr th:only-of-type {\n",
       "        vertical-align: middle;\n",
       "    }\n",
       "\n",
       "    .dataframe tbody tr th {\n",
       "        vertical-align: top;\n",
       "    }\n",
       "\n",
       "    .dataframe thead th {\n",
       "        text-align: right;\n",
       "    }\n",
       "</style>\n",
       "<table border=\"1\" class=\"dataframe\">\n",
       "  <thead>\n",
       "    <tr style=\"text-align: right;\">\n",
       "      <th></th>\n",
       "      <th>PM2.5</th>\n",
       "      <th>PM10</th>\n",
       "      <th>NO</th>\n",
       "      <th>NO2</th>\n",
       "      <th>CO</th>\n",
       "      <th>SO2</th>\n",
       "      <th>O3</th>\n",
       "      <th>AQI</th>\n",
       "    </tr>\n",
       "  </thead>\n",
       "  <tbody>\n",
       "    <tr>\n",
       "      <th>29526</th>\n",
       "      <td>15</td>\n",
       "      <td>50</td>\n",
       "      <td>7</td>\n",
       "      <td>25</td>\n",
       "      <td>0</td>\n",
       "      <td>8</td>\n",
       "      <td>23</td>\n",
       "      <td>41</td>\n",
       "    </tr>\n",
       "    <tr>\n",
       "      <th>29527</th>\n",
       "      <td>24</td>\n",
       "      <td>74</td>\n",
       "      <td>3</td>\n",
       "      <td>26</td>\n",
       "      <td>0</td>\n",
       "      <td>12</td>\n",
       "      <td>30</td>\n",
       "      <td>70</td>\n",
       "    </tr>\n",
       "    <tr>\n",
       "      <th>29528</th>\n",
       "      <td>22</td>\n",
       "      <td>65</td>\n",
       "      <td>3</td>\n",
       "      <td>29</td>\n",
       "      <td>0</td>\n",
       "      <td>8</td>\n",
       "      <td>30</td>\n",
       "      <td>68</td>\n",
       "    </tr>\n",
       "    <tr>\n",
       "      <th>29529</th>\n",
       "      <td>16</td>\n",
       "      <td>49</td>\n",
       "      <td>4</td>\n",
       "      <td>29</td>\n",
       "      <td>0</td>\n",
       "      <td>9</td>\n",
       "      <td>28</td>\n",
       "      <td>54</td>\n",
       "    </tr>\n",
       "    <tr>\n",
       "      <th>29530</th>\n",
       "      <td>15</td>\n",
       "      <td>66</td>\n",
       "      <td>0</td>\n",
       "      <td>26</td>\n",
       "      <td>0</td>\n",
       "      <td>2</td>\n",
       "      <td>17</td>\n",
       "      <td>50</td>\n",
       "    </tr>\n",
       "  </tbody>\n",
       "</table>\n",
       "</div>"
      ],
      "text/plain": [
       "       PM2.5  PM10  NO  NO2  CO  SO2  O3  AQI\n",
       "29526     15    50   7   25   0    8  23   41\n",
       "29527     24    74   3   26   0   12  30   70\n",
       "29528     22    65   3   29   0    8  30   68\n",
       "29529     16    49   4   29   0    9  28   54\n",
       "29530     15    66   0   26   0    2  17   50"
      ]
     },
     "execution_count": 77,
     "metadata": {},
     "output_type": "execute_result"
    }
   ],
   "source": [
    "prepareddata.tail()"
   ]
  },
  {
   "cell_type": "code",
   "execution_count": 78,
   "metadata": {
    "colab": {
     "base_uri": "https://localhost:8080/"
    },
    "id": "S7jLAIAnz6DX",
    "outputId": "75c48e34-7c38-4d31-b123-cc583258ad66"
   },
   "outputs": [
    {
     "name": "stdout",
     "output_type": "stream",
     "text": [
      "<class 'pandas.core.frame.DataFrame'>\n",
      "RangeIndex: 29531 entries, 0 to 29530\n",
      "Data columns (total 8 columns):\n",
      " #   Column  Non-Null Count  Dtype\n",
      "---  ------  --------------  -----\n",
      " 0   PM2.5   29531 non-null  int32\n",
      " 1   PM10    29531 non-null  int32\n",
      " 2   NO      29531 non-null  int32\n",
      " 3   NO2     29531 non-null  int32\n",
      " 4   CO      29531 non-null  int32\n",
      " 5   SO2     29531 non-null  int32\n",
      " 6   O3      29531 non-null  int32\n",
      " 7   AQI     29531 non-null  int32\n",
      "dtypes: int32(8)\n",
      "memory usage: 923.0 KB\n"
     ]
    }
   ],
   "source": [
    "prepareddata.info()"
   ]
  },
  {
   "cell_type": "markdown",
   "metadata": {
    "id": "h41vBLCd1IBm"
   },
   "source": [
    "The above is the prepared data that we will use for visualization and model creation"
   ]
  },
  {
   "cell_type": "code",
   "execution_count": 79,
   "metadata": {
    "colab": {
     "base_uri": "https://localhost:8080/",
     "height": 294
    },
    "id": "6yKVpz-WJK14",
    "outputId": "e0091454-4abe-4d33-93e2-db046e743f3c"
   },
   "outputs": [
    {
     "data": {
      "text/html": [
       "<div>\n",
       "<style scoped>\n",
       "    .dataframe tbody tr th:only-of-type {\n",
       "        vertical-align: middle;\n",
       "    }\n",
       "\n",
       "    .dataframe tbody tr th {\n",
       "        vertical-align: top;\n",
       "    }\n",
       "\n",
       "    .dataframe thead th {\n",
       "        text-align: right;\n",
       "    }\n",
       "</style>\n",
       "<table border=\"1\" class=\"dataframe\">\n",
       "  <thead>\n",
       "    <tr style=\"text-align: right;\">\n",
       "      <th></th>\n",
       "      <th>PM2.5</th>\n",
       "      <th>PM10</th>\n",
       "      <th>NO</th>\n",
       "      <th>NO2</th>\n",
       "      <th>CO</th>\n",
       "      <th>SO2</th>\n",
       "      <th>O3</th>\n",
       "      <th>AQI</th>\n",
       "    </tr>\n",
       "  </thead>\n",
       "  <tbody>\n",
       "    <tr>\n",
       "      <th>count</th>\n",
       "      <td>29531.000000</td>\n",
       "      <td>29531.000000</td>\n",
       "      <td>29531.000000</td>\n",
       "      <td>29531.000000</td>\n",
       "      <td>29531.000000</td>\n",
       "      <td>29531.000000</td>\n",
       "      <td>29531.000000</td>\n",
       "      <td>29531.000000</td>\n",
       "    </tr>\n",
       "    <tr>\n",
       "      <th>mean</th>\n",
       "      <td>66.961667</td>\n",
       "      <td>117.771460</td>\n",
       "      <td>17.061698</td>\n",
       "      <td>28.059226</td>\n",
       "      <td>1.805052</td>\n",
       "      <td>14.029765</td>\n",
       "      <td>33.995259</td>\n",
       "      <td>166.390099</td>\n",
       "    </tr>\n",
       "    <tr>\n",
       "      <th>std</th>\n",
       "      <td>59.415477</td>\n",
       "      <td>71.502782</td>\n",
       "      <td>21.365891</td>\n",
       "      <td>22.944183</td>\n",
       "      <td>6.710749</td>\n",
       "      <td>16.910682</td>\n",
       "      <td>20.161619</td>\n",
       "      <td>129.064459</td>\n",
       "    </tr>\n",
       "    <tr>\n",
       "      <th>min</th>\n",
       "      <td>0.000000</td>\n",
       "      <td>0.000000</td>\n",
       "      <td>0.000000</td>\n",
       "      <td>0.000000</td>\n",
       "      <td>0.000000</td>\n",
       "      <td>0.000000</td>\n",
       "      <td>0.000000</td>\n",
       "      <td>13.000000</td>\n",
       "    </tr>\n",
       "    <tr>\n",
       "      <th>25%</th>\n",
       "      <td>32.000000</td>\n",
       "      <td>79.000000</td>\n",
       "      <td>6.000000</td>\n",
       "      <td>12.000000</td>\n",
       "      <td>0.000000</td>\n",
       "      <td>6.000000</td>\n",
       "      <td>20.000000</td>\n",
       "      <td>88.000000</td>\n",
       "    </tr>\n",
       "    <tr>\n",
       "      <th>50%</th>\n",
       "      <td>58.000000</td>\n",
       "      <td>118.000000</td>\n",
       "      <td>11.000000</td>\n",
       "      <td>25.000000</td>\n",
       "      <td>0.000000</td>\n",
       "      <td>10.000000</td>\n",
       "      <td>34.000000</td>\n",
       "      <td>138.000000</td>\n",
       "    </tr>\n",
       "    <tr>\n",
       "      <th>75%</th>\n",
       "      <td>72.000000</td>\n",
       "      <td>118.000000</td>\n",
       "      <td>17.000000</td>\n",
       "      <td>34.000000</td>\n",
       "      <td>1.000000</td>\n",
       "      <td>14.000000</td>\n",
       "      <td>42.000000</td>\n",
       "      <td>179.000000</td>\n",
       "    </tr>\n",
       "    <tr>\n",
       "      <th>max</th>\n",
       "      <td>949.000000</td>\n",
       "      <td>1000.000000</td>\n",
       "      <td>390.000000</td>\n",
       "      <td>362.000000</td>\n",
       "      <td>175.000000</td>\n",
       "      <td>193.000000</td>\n",
       "      <td>257.000000</td>\n",
       "      <td>2049.000000</td>\n",
       "    </tr>\n",
       "  </tbody>\n",
       "</table>\n",
       "</div>"
      ],
      "text/plain": [
       "              PM2.5          PM10            NO           NO2            CO  \\\n",
       "count  29531.000000  29531.000000  29531.000000  29531.000000  29531.000000   \n",
       "mean      66.961667    117.771460     17.061698     28.059226      1.805052   \n",
       "std       59.415477     71.502782     21.365891     22.944183      6.710749   \n",
       "min        0.000000      0.000000      0.000000      0.000000      0.000000   \n",
       "25%       32.000000     79.000000      6.000000     12.000000      0.000000   \n",
       "50%       58.000000    118.000000     11.000000     25.000000      0.000000   \n",
       "75%       72.000000    118.000000     17.000000     34.000000      1.000000   \n",
       "max      949.000000   1000.000000    390.000000    362.000000    175.000000   \n",
       "\n",
       "                SO2            O3           AQI  \n",
       "count  29531.000000  29531.000000  29531.000000  \n",
       "mean      14.029765     33.995259    166.390099  \n",
       "std       16.910682     20.161619    129.064459  \n",
       "min        0.000000      0.000000     13.000000  \n",
       "25%        6.000000     20.000000     88.000000  \n",
       "50%       10.000000     34.000000    138.000000  \n",
       "75%       14.000000     42.000000    179.000000  \n",
       "max      193.000000    257.000000   2049.000000  "
      ]
     },
     "execution_count": 79,
     "metadata": {},
     "output_type": "execute_result"
    }
   ],
   "source": [
    "prepareddata.describe()"
   ]
  },
  {
   "cell_type": "markdown",
   "metadata": {
    "id": "VfiuQwW_Lnwx"
   },
   "source": [
    "## **Data visualization**"
   ]
  },
  {
   "cell_type": "code",
   "execution_count": 80,
   "metadata": {
    "id": "pNJ1GJ2JLuiR"
   },
   "outputs": [],
   "source": [
    "import matplotlib.pyplot as plt\n",
    "%matplotlib inline\n",
    "import seaborn as sns"
   ]
  },
  {
   "cell_type": "code",
   "execution_count": 81,
   "metadata": {
    "colab": {
     "base_uri": "https://localhost:8080/",
     "height": 521
    },
    "id": "MgQDzIkhR0Nl",
    "outputId": "d7e8f6cf-cb8a-4e72-cdd3-3f868fa8854e"
   },
   "outputs": [
    {
     "data": {
      "image/png": "[encoded data removed]",
      "text/plain": [
       "<Figure size 1500x800 with 1 Axes>"
      ]
     },
     "metadata": {},
     "output_type": "display_data"
    }
   ],
   "source": [
    "x=prepareddata['AQI']\n",
    "y1=prepareddata['PM2.5']\n",
    "y2=prepareddata['PM10']\n",
    "y3=prepareddata['NO']\n",
    "y4=prepareddata['NO2']\n",
    "y5=prepareddata['CO']\n",
    "y6=prepareddata['SO2']\n",
    "y7=prepareddata['O3']\n",
    "plt.figure(figsize=(15,8))\n",
    "plt.scatter(x,y1,label='PM 2.5',color='salmon')\n",
    "plt.scatter(x,y2,label='PM 10',color='palegreen')\n",
    "plt.scatter(x,y3,label='NO',color='yellow')\n",
    "plt.scatter(x,y4,label='NO2',color='steelblue')\n",
    "plt.scatter(x,y5,label='CO',color='lime')\n",
    "plt.scatter(x,y6,label='SO2',color='violet')\n",
    "plt.scatter(x,y7,label='O3',color='springgreen')\n",
    "plt.title('AQI and its Pollutents',fontsize=18)\n",
    "plt.xlabel('AQI',fontsize=14)\n",
    "plt.ylabel('Value',fontsize=14)\n",
    "plt.legend()\n",
    "plt.show()"
   ]
  },
  {
   "cell_type": "code",
   "execution_count": 82,
   "metadata": {
    "colab": {
     "base_uri": "https://localhost:8080/",
     "height": 286
    },
    "id": "cyHFgCwCLp1H",
    "outputId": "a00a4a81-8fcf-46d1-fb6c-b3b9636b2c53"
   },
   "outputs": [
    {
     "data": {
      "text/plain": [
       "<AxesSubplot:>"
      ]
     },
     "execution_count": 82,
     "metadata": {},
     "output_type": "execute_result"
    },
    {
     "data": {
      "image/png": "[encoded data removed]",
      "text/plain": [
       "<Figure size 640x480 with 2 Axes>"
      ]
     },
     "metadata": {},
     "output_type": "display_data"
    }
   ],
   "source": [
    "#to find correlation between different columns.\n",
    "corr = prepareddata.corr() \n",
    "sns.heatmap(corr, annot=True)"
   ]
  },
  {
   "cell_type": "markdown",
   "metadata": {
    "id": "NMgrcMk-WKpI"
   },
   "source": [
    "Insights :\n",
    "\n",
    "1.When the value of pollutents is less, Air Quality Index (AQI) is less.\n",
    "\n",
    "2.AQI highly depends on \n",
    "\n",
    "ground-level ozone\n",
    "\n",
    "particle pollution (also known as particulate matter, including PM2.5 and PM10)\n",
    "\n",
    "carbon monoxide\n",
    "\n",
    "sulfur dioxide\n",
    "\n",
    "nitrogen dioxide"
   ]
  },
  {
   "cell_type": "markdown",
   "metadata": {
    "id": "eMX6gamk9DFi"
   },
   "source": [
    "## **Data training**"
   ]
  },
  {
   "cell_type": "code",
   "execution_count": 83,
   "metadata": {
    "id": "GYCdLKcm79C7"
   },
   "outputs": [],
   "source": [
    "# Import train_test_split from sklearn.model_selection\n",
    "from sklearn.model_selection import train_test_split\n",
    "# Here, X is the data which will have features and y will have our target i.e. Air Quality Index(AQI).\n",
    "x=prepareddata[['PM2.5', 'PM10', 'NO', 'NO2','CO', 'SO2','O3']]  \n",
    "y=prepareddata['AQI']"
   ]
  },
  {
   "cell_type": "code",
   "execution_count": 84,
   "metadata": {
    "colab": {
     "base_uri": "https://localhost:8080/"
    },
    "id": "ikX3cpRvJycH",
    "outputId": "f500a7d6-9876-4cdc-8af9-b9c49340043b"
   },
   "outputs": [
    {
     "data": {
      "text/plain": [
       "(29531, 7)"
      ]
     },
     "execution_count": 84,
     "metadata": {},
     "output_type": "execute_result"
    }
   ],
   "source": [
    "x.shape"
   ]
  },
  {
   "cell_type": "code",
   "execution_count": 85,
   "metadata": {
    "colab": {
     "base_uri": "https://localhost:8080/"
    },
    "id": "Gz_QeBbWJ0Yo",
    "outputId": "93e8001b-dbe4-4f9c-c661-9521fc7dda5f"
   },
   "outputs": [
    {
     "data": {
      "text/plain": [
       "(29531,)"
      ]
     },
     "execution_count": 85,
     "metadata": {},
     "output_type": "execute_result"
    }
   ],
   "source": [
    "y.shape"
   ]
  },
  {
   "cell_type": "code",
   "execution_count": 86,
   "metadata": {
    "id": "YLUhN25e9d7s"
   },
   "outputs": [],
   "source": [
    "# Split data into training data and testing data\n",
    "x_train, x_test, y_train, y_test = train_test_split(x, y, test_size=0.2) \n",
    "#Ratio used for splitting training and testing data is 8:2 respectively"
   ]
  },
  {
   "cell_type": "markdown",
   "metadata": {
    "id": "FD74kl39KWaX"
   },
   "source": [
    "## **Model Creation**"
   ]
  },
  {
   "cell_type": "markdown",
   "metadata": {
    "id": "lY3R36JEMH_W"
   },
   "source": [
    "Linear Regression"
   ]
  },
  {
   "cell_type": "code",
   "execution_count": 87,
   "metadata": {
    "id": "2ESXWiXV9lxH"
   },
   "outputs": [],
   "source": [
    "# Importing linear regression model\n",
    "from sklearn.linear_model import LinearRegression \n",
    "reg1 = LinearRegression()"
   ]
  },
  {
   "cell_type": "code",
   "execution_count": 88,
   "metadata": {
    "colab": {
     "base_uri": "https://localhost:8080/"
    },
    "id": "Qv8xCNbOKajf",
    "outputId": "078003cc-052d-4228-b03d-53e391c65f86"
   },
   "outputs": [
    {
     "data": {
      "text/plain": [
       "LinearRegression()"
      ]
     },
     "execution_count": 88,
     "metadata": {},
     "output_type": "execute_result"
    }
   ],
   "source": [
    "# Fitting data into the model.\n",
    "reg1.fit(x_train, y_train)"
   ]
  },
  {
   "cell_type": "code",
   "execution_count": 89,
   "metadata": {
    "id": "qJMW22ySKgip"
   },
   "outputs": [],
   "source": [
    "# Making predictions \n",
    "pred1 = reg1.predict(x_test)"
   ]
  },
  {
   "cell_type": "code",
   "execution_count": 90,
   "metadata": {
    "colab": {
     "base_uri": "https://localhost:8080/"
    },
    "id": "1XgbvkkhKj-t",
    "outputId": "3b531405-5f21-49e8-a114-7a27bdd2a3b1"
   },
   "outputs": [
    {
     "data": {
      "text/plain": [
       "array([147.89937562, 115.94802513, 349.58674612, ...,  97.78133893,\n",
       "       147.89937562,  40.79986673])"
      ]
     },
     "execution_count": 90,
     "metadata": {},
     "output_type": "execute_result"
    }
   ],
   "source": [
    "pred1"
   ]
  },
  {
   "cell_type": "code",
   "execution_count": 91,
   "metadata": {
    "colab": {
     "base_uri": "https://localhost:8080/"
    },
    "id": "nCVUrtxIKoJR",
    "outputId": "1503c080-e3d1-4322-d809-acfda5bb0699"
   },
   "outputs": [
    {
     "name": "stdout",
     "output_type": "stream",
     "text": [
      "Accuracy of the LinearRegression model comes to be: \n",
      " \n",
      "0.8011454788752739\n"
     ]
    }
   ],
   "source": [
    "print(\"Accuracy of the LinearRegression model comes to be: \\n \") \n",
    "print(reg1.score(x_train,y_train))"
   ]
  },
  {
   "cell_type": "markdown",
   "metadata": {
    "id": "LPNoTPXpMVY_"
   },
   "source": [
    "Lasso Regression "
   ]
  },
  {
   "cell_type": "code",
   "execution_count": 92,
   "metadata": {
    "id": "6-elduwhKuqj"
   },
   "outputs": [],
   "source": [
    "# Importing model\n",
    "from sklearn.linear_model import Lasso\n",
    "reg2 = Lasso()"
   ]
  },
  {
   "cell_type": "code",
   "execution_count": 93,
   "metadata": {
    "colab": {
     "base_uri": "https://localhost:8080/"
    },
    "id": "eQ-a2Q18M0Mc",
    "outputId": "4723d36d-ff6a-457a-8c5e-263f08fc438d"
   },
   "outputs": [
    {
     "data": {
      "text/plain": [
       "Lasso()"
      ]
     },
     "execution_count": 93,
     "metadata": {},
     "output_type": "execute_result"
    }
   ],
   "source": [
    "# Fitting data into the model.\n",
    "reg2.fit(x_train, y_train)"
   ]
  },
  {
   "cell_type": "code",
   "execution_count": 94,
   "metadata": {
    "id": "GEQ7_7mINAuU"
   },
   "outputs": [],
   "source": [
    "# Making predictions \n",
    "pred2 = reg2.predict(x_test)"
   ]
  },
  {
   "cell_type": "code",
   "execution_count": 95,
   "metadata": {
    "colab": {
     "base_uri": "https://localhost:8080/"
    },
    "id": "M7JeaPy1NFhw",
    "outputId": "426aa122-4667-4dc7-af84-32f57bddfe6b"
   },
   "outputs": [
    {
     "data": {
      "text/plain": [
       "array([147.94263697, 116.00088836, 349.60449926, ...,  97.8550853 ,\n",
       "       147.94263697,  40.86653039])"
      ]
     },
     "execution_count": 95,
     "metadata": {},
     "output_type": "execute_result"
    }
   ],
   "source": [
    "pred2"
   ]
  },
  {
   "cell_type": "code",
   "execution_count": 96,
   "metadata": {
    "colab": {
     "base_uri": "https://localhost:8080/"
    },
    "id": "6LrLYSACNIlC",
    "outputId": "df218707-278e-4955-9d91-9d7461ef3c49"
   },
   "outputs": [
    {
     "name": "stdout",
     "output_type": "stream",
     "text": [
      "Accuracy of the LassoRegression model comes to be: \n",
      " \n",
      "0.8011439488217471\n"
     ]
    }
   ],
   "source": [
    "print(\"Accuracy of the LassoRegression model comes to be: \\n \") \n",
    "print(reg2.score(x_train,y_train))"
   ]
  },
  {
   "cell_type": "markdown",
   "metadata": {
    "id": "WjDjKAm2NYPV"
   },
   "source": [
    "Ridge Regression"
   ]
  },
  {
   "cell_type": "code",
   "execution_count": 97,
   "metadata": {
    "id": "2U9dv_bMNOjw"
   },
   "outputs": [],
   "source": [
    "# Importing model\n",
    "from sklearn.linear_model import Ridge\n",
    "reg3 = Ridge()"
   ]
  },
  {
   "cell_type": "code",
   "execution_count": 98,
   "metadata": {
    "colab": {
     "base_uri": "https://localhost:8080/"
    },
    "id": "B90bxN8zNjO5",
    "outputId": "2d2595ef-86e9-4672-efdd-96fd488a3f2a"
   },
   "outputs": [
    {
     "data": {
      "text/plain": [
       "Ridge()"
      ]
     },
     "execution_count": 98,
     "metadata": {},
     "output_type": "execute_result"
    }
   ],
   "source": [
    "# Fitting data into the model.\n",
    "reg3.fit(x_train, y_train)"
   ]
  },
  {
   "cell_type": "code",
   "execution_count": 99,
   "metadata": {
    "id": "y7qFnBGYNned"
   },
   "outputs": [],
   "source": [
    "# Making predictions \n",
    "pred3= reg3.predict(x_test)"
   ]
  },
  {
   "cell_type": "code",
   "execution_count": 100,
   "metadata": {
    "colab": {
     "base_uri": "https://localhost:8080/"
    },
    "id": "OWGRQ2NYOAox",
    "outputId": "0c56b176-dfee-4836-b8ce-c07f7351983a"
   },
   "outputs": [
    {
     "data": {
      "text/plain": [
       "array([147.89940002, 115.94800368, 349.58685045, ...,  97.78136137,\n",
       "       147.89940002,  40.79987144])"
      ]
     },
     "execution_count": 100,
     "metadata": {},
     "output_type": "execute_result"
    }
   ],
   "source": [
    "pred3"
   ]
  },
  {
   "cell_type": "code",
   "execution_count": 101,
   "metadata": {
    "colab": {
     "base_uri": "https://localhost:8080/"
    },
    "id": "Jv8O6uzuOCM5",
    "outputId": "6d08b13d-a898-4d7d-9c22-8dc275cb5057"
   },
   "outputs": [
    {
     "name": "stdout",
     "output_type": "stream",
     "text": [
      "Accuracy of the RidgeRegression model comes to be: \n",
      " \n",
      "0.8011454788749266\n"
     ]
    }
   ],
   "source": [
    "print(\"Accuracy of the RidgeRegression model comes to be: \\n \") \n",
    "print(reg3.score(x_train,y_train))"
   ]
  },
  {
   "cell_type": "markdown",
   "metadata": {
    "id": "gVqJQ5cUOML0"
   },
   "source": [
    "Decision Tree Regressor"
   ]
  },
  {
   "cell_type": "code",
   "execution_count": 102,
   "metadata": {
    "id": "HFTtX8E_OI0Z"
   },
   "outputs": [],
   "source": [
    "# Importing decision tree regressor \n",
    "from sklearn.tree import DecisionTreeRegressor \n",
    "reg4 = DecisionTreeRegressor()"
   ]
  },
  {
   "cell_type": "code",
   "execution_count": 103,
   "metadata": {
    "colab": {
     "base_uri": "https://localhost:8080/"
    },
    "id": "XhDtgKKNO7uN",
    "outputId": "87306ab0-a7f4-41d8-9de2-918f72822175"
   },
   "outputs": [
    {
     "data": {
      "text/plain": [
       "DecisionTreeRegressor()"
      ]
     },
     "execution_count": 103,
     "metadata": {},
     "output_type": "execute_result"
    }
   ],
   "source": [
    "#Fitting data into the model.\n",
    "reg4.fit(x_train, y_train)"
   ]
  },
  {
   "cell_type": "code",
   "execution_count": 104,
   "metadata": {
    "id": "w7YcgyLDPBKw"
   },
   "outputs": [],
   "source": [
    "# Making predictions on Test data \n",
    "pred4 = reg4.predict(x_test)"
   ]
  },
  {
   "cell_type": "code",
   "execution_count": 105,
   "metadata": {
    "colab": {
     "base_uri": "https://localhost:8080/"
    },
    "id": "hWtIPMzJPF3p",
    "outputId": "771a2c2a-e81f-40df-be47-9c2ce2b9f9de"
   },
   "outputs": [
    {
     "data": {
      "text/plain": [
       "array([165.68196995, 156.        , 360.        , ...,  75.        ,\n",
       "       165.68196995,  20.        ])"
      ]
     },
     "execution_count": 105,
     "metadata": {},
     "output_type": "execute_result"
    }
   ],
   "source": [
    "pred4"
   ]
  },
  {
   "cell_type": "code",
   "execution_count": 106,
   "metadata": {
    "colab": {
     "base_uri": "https://localhost:8080/"
    },
    "id": "d_fwG8MWPKAl",
    "outputId": "a7ba2c28-1ed9-4951-8531-dd3fb73f4549"
   },
   "outputs": [
    {
     "name": "stdout",
     "output_type": "stream",
     "text": [
      "Accuracy of the Decision Tree Regressor  model comes to be: \n",
      " \n",
      "0.9991689106280446\n"
     ]
    }
   ],
   "source": [
    "print(\"Accuracy of the Decision Tree Regressor  model comes to be: \\n \") \n",
    "print(reg4.score(x_train,y_train))"
   ]
  },
  {
   "cell_type": "markdown",
   "metadata": {
    "id": "L0kLvsytPUzK"
   },
   "source": [
    "## **Performance Evaluation**"
   ]
  },
  {
   "cell_type": "code",
   "execution_count": 107,
   "metadata": {
    "colab": {
     "base_uri": "https://localhost:8080/"
    },
    "id": "_cshIOh5PQPO",
    "outputId": "85bdfb58-d238-43b3-e004-8d6f883f4c52"
   },
   "outputs": [
    {
     "name": "stdout",
     "output_type": "stream",
     "text": [
      "Model\t\t\t RootMeanSquareError \t\t Accuracy of the model\n",
      "Linear Regression \t\t 62.0724 \t \t\t 0.8011\n",
      "Lasso Regression \t\t 62.0647 \t \t\t 0.8011\n",
      "Ridge Regression \t\t 62.0724 \t \t\t 0.8011\n",
      "Decision Tree Regressor\t\t 65.7964 \t \t\t 0.9992\n"
     ]
    }
   ],
   "source": [
    "import numpy as np\n",
    "from sklearn.metrics import mean_squared_error\n",
    "print(\"Model\\t\\t\\t RootMeanSquareError \\t\\t Accuracy of the model\") \n",
    "print(\"\"\"Linear Regression \\t\\t {:.4f} \\t \\t\\t {:.4f}\"\"\".format(  np.sqrt(mean_squared_error(y_test, pred1)), reg1.score(x_train,y_train)))\n",
    "print(\"\"\"Lasso Regression \\t\\t {:.4f} \\t \\t\\t {:.4f}\"\"\".format(  np.sqrt(mean_squared_error(y_test, pred2)), reg2.score(x_train,y_train)))\n",
    "print(\"\"\"Ridge Regression \\t\\t {:.4f} \\t \\t\\t {:.4f}\"\"\".format(  np.sqrt(mean_squared_error(y_test, pred3)), reg3.score(x_train,y_train)))\n",
    "print(\"\"\"Decision Tree Regressor\\t\\t {:.4f} \\t \\t\\t {:.4f}\"\"\".format(  np.sqrt(mean_squared_error(y_test, pred4)), reg4.score(x_train,y_train)))\n"
   ]
  },
  {
   "cell_type": "markdown",
   "metadata": {
    "id": "0YHcoh5qP86u"
   },
   "source": [
    "Conclusion:\n",
    "Accuracy of Regression models- Linear regression, lasso regression and rigde regression is almost same. \n",
    "\n",
    "Whereas accuracy of decision tree regressor is higher and root mean sqaure error is least.\n",
    "\n",
    "Decision tree regressor is more efficient model."
   ]
  },
  {
   "cell_type": "code",
   "execution_count": null,
   "metadata": {},
   "outputs": [],
   "source": []
  }
 ],
 "metadata": {
  "colab": {
   "collapsed_sections": [],
   "name": "Air_quality_prediction.ipynb",
   "provenance": []
  },
  "kernelspec": {
   "display_name": "Python 3 (ipykernel)",
   "language": "python",
   "name": "python3"
  },
  "language_info": {
   "codemirror_mode": {
    "name": "ipython",
    "version": 3
   },
   "file_extension": ".py",
   "mimetype": "text/x-python",
   "name": "python",
   "nbconvert_exporter": "python",
   "pygments_lexer": "ipython3",
   "version": "3.9.13"
  }
 },
 "nbformat": 4,
 "nbformat_minor": 1
}
